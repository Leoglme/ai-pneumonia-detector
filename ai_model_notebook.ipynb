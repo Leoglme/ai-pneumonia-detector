{
 "cells": [
  {
   "cell_type": "markdown",
   "id": "d4a72b6b",
   "metadata": {},
   "source": [
    "\n",
    "# Analyse des r�sultats des mod�les KNN et CNN\n",
    "<style>\n",
    "h1 {color: navy;}\n",
    "</style>\n"
   ]
  },
  {
   "cell_type": "code",
   "execution_count": null,
   "id": "90c1e043",
   "metadata": {},
   "outputs": [],
   "source": [
    "\n",
    "import json\n",
    "import matplotlib.pyplot as plt\n",
    "\n",
    "# Chargement des r�sultats\n",
    "with open(\"knn_results.json\", \"r\") as file:\n",
    "    knn_results = json.load(file)\n",
    "with open(\"cnn_results.json\", \"r\") as file:\n",
    "    cnn_results = json.load(file)\n",
    "\n",
    "# Affichage des r�sultats KNN\n",
    "print(\"## R�sultats du mod�le KNN\\n- Pr�cision: {}\".format(knn_results['accuracy']))\n",
    "print(\"- Rapport de classification:\\n{}\".format(knn_results['classification_report']))\n",
    "\n",
    "# Affichage des r�sultats CNN\n",
    "print(\"\\n## R�sultats du mod�le CNN\\n- Pr�cision de test: {}\".format(cnn_results['test_accuracy']))\n",
    "print(\"- Perte de test: {}\".format(cnn_results['test_loss']))\n",
    "\n",
    "# Donn�es pour la comparaison\n",
    "labels = ['KNN', 'CNN']\n",
    "accuracy = [knn_results['accuracy'], cnn_results['test_accuracy']]\n",
    "\n",
    "# Cr�ation des graphiques\n",
    "plt.figure(figsize=(8, 6))\n",
    "plt.bar(labels, accuracy, color=['blue', 'green'])\n",
    "plt.title('Comparaison de la pr�cision')\n",
    "plt.ylabel('Pr�cision')\n",
    "plt.show()\n"
   ]
  },
  {
   "cell_type": "markdown",
   "id": "0b55acad",
   "metadata": {},
   "source": [
    "\n",
    "## Conclusion\n",
    "**En comparant les deux mod�les, nous observons des diff�rences en termes de pr�cision. Il est important de consid�rer les caract�ristiques sp�cifiques des donn�es et les exigences du probl�me pour choisir le mod�le appropri�.**\n"
   ]
  }
 ],
 "metadata": {},
 "nbformat": 4,
 "nbformat_minor": 5
}
